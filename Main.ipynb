{
 "cells": [
  {
   "cell_type": "code",
   "execution_count": 6,
   "id": "394c5a66",
   "metadata": {},
   "outputs": [],
   "source": [
    "from sqlalchemy import create_engine\n",
    "import pandas as pd"
   ]
  },
  {
   "cell_type": "code",
   "execution_count": 7,
   "id": "6a426c27",
   "metadata": {},
   "outputs": [],
   "source": [
    "# 1. Establish connection to the database\n",
    "def create_db_engine(user, password, host, db_name):\n",
    "    engine = create_engine(f'mysql+pymysql://{user}:{password}@{host}/{db_name}')\n",
    "    return engine"
   ]
  },
  {
   "cell_type": "code",
   "execution_count": 8,
   "id": "88bdd864",
   "metadata": {},
   "outputs": [],
   "source": [
    "# 2. Function to get rental data for a specific month and year\n",
    "def rentals_month(engine, month, year):\n",
    "    query = f\"\"\"\n",
    "    SELECT r.rental_id, r.rental_date, r.inventory_id, r.customer_id, r.return_date\n",
    "    FROM rental r\n",
    "    WHERE MONTH(r.rental_date) = {month} AND YEAR(r.rental_date) = {year};\n",
    "    \"\"\"\n",
    "    df = pd.read_sql(query, engine)\n",
    "    return df"
   ]
  },
  {
   "cell_type": "code",
   "execution_count": 9,
   "id": "9711ff1a",
   "metadata": {},
   "outputs": [],
   "source": [
    "# 3. Function to count the rentals made by each customer\n",
    "def rental_count_month(df, month, year):\n",
    "    rental_counts = df.groupby('customer_id').size().reset_index(name='rental_count')\n",
    "    rental_counts[f'rentals_{month:02d}_{year}'] = rental_counts['rental_count']\n",
    "    rental_counts.drop(columns=['rental_count'], inplace=True)\n",
    "    return rental_counts"
   ]
  },
  {
   "cell_type": "code",
   "execution_count": 10,
   "id": "3383e7ed",
   "metadata": {},
   "outputs": [],
   "source": [
    "# 4. Function to compare the rental counts for two different months\n",
    "def compare_rentals(df1, df2):\n",
    "    merged_df = pd.merge(df1, df2, on='customer_id', how='outer')\n",
    "    merged_df.fillna(0, inplace=True)\n",
    "    merged_df['difference'] = merged_df.iloc[:, 1] - merged_df.iloc[:, 2]\n",
    "    return merged_df"
   ]
  }
 ],
 "metadata": {
  "kernelspec": {
   "display_name": "base",
   "language": "python",
   "name": "python3"
  },
  "language_info": {
   "codemirror_mode": {
    "name": "ipython",
    "version": 3
   },
   "file_extension": ".py",
   "mimetype": "text/x-python",
   "name": "python",
   "nbconvert_exporter": "python",
   "pygments_lexer": "ipython3",
   "version": "3.12.7"
  }
 },
 "nbformat": 4,
 "nbformat_minor": 5
}
